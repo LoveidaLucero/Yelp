{
 "cells": [
  {
   "cell_type": "markdown",
   "id": "019ca2e6-1610-4a36-b1a2-b8c38c45d9d9",
   "metadata": {},
   "source": [
    "# Efficient Yelp API Calls CORE\n",
    "Loveida Lucero"
   ]
  },
  {
   "cell_type": "code",
   "execution_count": 1,
   "id": "aa076bc9-baa3-400c-b87d-52171771769e",
   "metadata": {},
   "outputs": [],
   "source": [
    "# Standard Imports\n",
    "import numpy as np\n",
    "import pandas as pd\n",
    "# Additional Imports\n",
    "import os, json, math, time\n",
    "from yelpapi import YelpAPI\n",
    "from tqdm.notebook import tqdm_notebook"
   ]
  },
  {
   "cell_type": "code",
   "execution_count": 2,
   "id": "1641e390-b87f-4aaf-8d28-7f4b0dff5e02",
   "metadata": {},
   "outputs": [
    {
     "data": {
      "text/plain": [
       "dict_keys(['client-id', 'api-key'])"
      ]
     },
     "execution_count": 2,
     "metadata": {},
     "output_type": "execute_result"
    }
   ],
   "source": [
    "with open('/Users/Lovei/.secret/yelp_api.json') as f:\n",
    "    login = json.load(f)\n",
    "login.keys()"
   ]
  },
  {
   "cell_type": "code",
   "execution_count": 3,
   "id": "e43cacb1-4c7b-4560-baf0-76103d2fc1b0",
   "metadata": {},
   "outputs": [
    {
     "data": {
      "text/plain": [
       "<yelpapi.yelpapi.YelpAPI at 0x1a47afab340>"
      ]
     },
     "execution_count": 3,
     "metadata": {},
     "output_type": "execute_result"
    }
   ],
   "source": [
    "yelp_api = YelpAPI(login['api-key'], timeout_s=5.0)\n",
    "yelp_api"
   ]
  },
  {
   "cell_type": "code",
   "execution_count": 4,
   "id": "4e54381a-0840-4b6c-94b5-540e6d4db1e1",
   "metadata": {},
   "outputs": [
    {
     "name": "stdout",
     "output_type": "stream",
     "text": [
      "<class 'dict'>\n"
     ]
    },
    {
     "data": {
      "text/plain": [
       "dict_keys(['businesses', 'total', 'region'])"
      ]
     },
     "execution_count": 4,
     "metadata": {},
     "output_type": "execute_result"
    }
   ],
   "source": [
    "# use our yelp_api variable's search_query method to perform our API call\n",
    "search_results = yelp_api.search_query(location='Salem, MA',\n",
    "                                       term='Soup')\n",
    "print(type(search_results))\n",
    "search_results.keys()"
   ]
  },
  {
   "cell_type": "code",
   "execution_count": 5,
   "id": "d77448c1-51f0-4b62-9d79-2753963ea2ff",
   "metadata": {},
   "outputs": [],
   "source": [
    "# set our API call parameters \n",
    "LOCATION = 'Salem, MA'\n",
    "TERM = 'Soup'"
   ]
  },
  {
   "cell_type": "code",
   "execution_count": 6,
   "id": "2878bd3b-aeca-4c91-91ac-53a032699bf2",
   "metadata": {},
   "outputs": [
    {
     "data": {
      "text/plain": [
       "'Data/results_in_progress_Salem_Soup.json'"
      ]
     },
     "execution_count": 6,
     "metadata": {},
     "output_type": "execute_result"
    }
   ],
   "source": [
    "# Specifying JSON_FILE filename (can include a folder)\n",
    "# include the search terms in the filename\n",
    "JSON_FILE2 = \"Data/results_in_progress_Salem_Soup.json\"\n",
    "JSON_FILE2"
   ]
  },
  {
   "cell_type": "code",
   "execution_count": 7,
   "id": "5d5eeee6-52b9-4be0-9689-c01a7dfc9306",
   "metadata": {},
   "outputs": [
    {
     "name": "stdout",
     "output_type": "stream",
     "text": [
      "[i] Data/results_in_progress_Salem_Soup.json already exists.\n"
     ]
    }
   ],
   "source": [
    "## Check if JSON_FILE exists\n",
    "file_exists = os.path.isfile(JSON_FILE2)\n",
    "## If it does not exist: \n",
    "if file_exists == False:\n",
    "    \n",
    "    ## CREATE ANY NEEDED FOLDERS\n",
    "    # Get the Folder Name only\n",
    "    folder = os.path.dirname(JSON_FILE2)\n",
    "    ## If JSON_FILE included a folder:\n",
    "    if len(folder)>0:\n",
    "        # create the folder\n",
    "        os.makedirs(folder,exist_ok=True)\n",
    "        \n",
    "        \n",
    "    ## INFORM USER AND SAVE EMPTY LIST\n",
    "    print(f'[i] {JSON_FILE2} not found. Saving empty list to file.')\n",
    "    \n",
    "    \n",
    "    # save an empty list\n",
    "    with open(JSON_FILE2,'w') as f:\n",
    "        json.dump([],f)  \n",
    "# If it exists, inform user\n",
    "else:\n",
    "    print(f\"[i] {JSON_FILE2} already exists.\")"
   ]
  },
  {
   "cell_type": "code",
   "execution_count": 8,
   "id": "01113572-5262-4f72-8cb1-c1ebd17fa447",
   "metadata": {},
   "outputs": [
    {
     "name": "stdout",
     "output_type": "stream",
     "text": [
      "- 0 previous results found.\n"
     ]
    }
   ],
   "source": [
    "## Load previous results and use len of results for offset\n",
    "with open(JSON_FILE2,'r') as f:\n",
    "    previous_results = json.load(f)\n",
    "    \n",
    "## set offset based on previous results\n",
    "n_results = len(previous_results)\n",
    "print(f'- {n_results} previous results found.')"
   ]
  },
  {
   "cell_type": "code",
   "execution_count": 9,
   "id": "9d7c817e-4bca-43c6-9ca6-2b75b5a1df4f",
   "metadata": {},
   "outputs": [
    {
     "data": {
      "text/plain": [
       "dict_keys(['businesses', 'total', 'region'])"
      ]
     },
     "execution_count": 9,
     "metadata": {},
     "output_type": "execute_result"
    }
   ],
   "source": [
    "# use our yelp_api variable's search_query method to perform our API call\n",
    "results = yelp_api.search_query(location=LOCATION,\n",
    "                                term=TERM,\n",
    "                               offset=n_results)\n",
    "results.keys()"
   ]
  },
  {
   "cell_type": "code",
   "execution_count": 10,
   "id": "e42319b9-bcff-47a8-8fbb-5a037ab22914",
   "metadata": {},
   "outputs": [
    {
     "data": {
      "text/plain": [
       "317"
      ]
     },
     "execution_count": 10,
     "metadata": {},
     "output_type": "execute_result"
    }
   ],
   "source": [
    "## How many results total?\n",
    "total_results = results['total']\n",
    "total_results"
   ]
  },
  {
   "cell_type": "code",
   "execution_count": 11,
   "id": "2246f309-605d-4deb-a654-fb89017bb6db",
   "metadata": {},
   "outputs": [
    {
     "data": {
      "text/plain": [
       "20"
      ]
     },
     "execution_count": 11,
     "metadata": {},
     "output_type": "execute_result"
    }
   ],
   "source": [
    "## How many did we get the details for?\n",
    "results_per_page = len(results['businesses'])\n",
    "results_per_page"
   ]
  },
  {
   "cell_type": "code",
   "execution_count": 12,
   "id": "d7102247-f607-4eea-81b3-38aec2c08d5b",
   "metadata": {},
   "outputs": [
    {
     "data": {
      "text/plain": [
       "16"
      ]
     },
     "execution_count": 12,
     "metadata": {},
     "output_type": "execute_result"
    }
   ],
   "source": [
    "# Use math.ceil to round up for the total number of pages of results.\n",
    "n_pages = math.ceil((results['total']-n_results)/ results_per_page)\n",
    "n_pages"
   ]
  },
  {
   "cell_type": "code",
   "execution_count": 13,
   "id": "d3cea729-58ef-4b2e-9f1c-7ce4913fb1cc",
   "metadata": {},
   "outputs": [],
   "source": [
    "# join new results with old list with extend and save to file\n",
    "previous_results.extend(results['businesses'])  \n",
    "with open(JSON_FILE2,'w') as f:\n",
    "     json.dump(previous_results,f)"
   ]
  },
  {
   "cell_type": "code",
   "execution_count": 14,
   "id": "4e97e9de-76f1-48e6-bb92-54b1e0935e1a",
   "metadata": {},
   "outputs": [
    {
     "data": {
      "application/vnd.jupyter.widget-view+json": {
       "model_id": "cf6ac63be5034a54bcf9d2fdcf068e93",
       "version_major": 2,
       "version_minor": 0
      },
      "text/plain": [
       "  0%|          | 0/16 [00:00<?, ?it/s]"
      ]
     },
     "metadata": {},
     "output_type": "display_data"
    }
   ],
   "source": [
    "for i in tqdm_notebook(range(n_pages)):\n",
    "    # adds 200 ms pause\n",
    "    time.sleep(.2) "
   ]
  },
  {
   "cell_type": "code",
   "execution_count": 15,
   "id": "8d5c221f-e3de-4fbb-961e-3b54420eeee6",
   "metadata": {},
   "outputs": [
    {
     "data": {
      "text/plain": [
       "False"
      ]
     },
     "execution_count": 15,
     "metadata": {},
     "output_type": "execute_result"
    }
   ],
   "source": [
    "## delete file and confirm it no longer exits.\n",
    "os.remove(JSON_FILE2)\n",
    "os.path.isfile(JSON_FILE2)"
   ]
  },
  {
   "cell_type": "code",
   "execution_count": 16,
   "id": "9f6cdf8e-de80-4de6-8551-ec66fe45dcdc",
   "metadata": {},
   "outputs": [],
   "source": [
    "def create_json_file(JSON_FILE2,  delete_if_exists=False):\n",
    "    \n",
    "    ## Check if JSON_FILE2 exists\n",
    "    file_exists = os.path.isfile(JSON_FILE2)\n",
    "    \n",
    "    ## If it DOES exist:\n",
    "    if file_exists == True:\n",
    "        \n",
    "        ## Check if user wants to delete if exists\n",
    "        if delete_if_exists==True:\n",
    "            \n",
    "            print(f\"[!] {JSON_FILE2} already exists. Deleting previous file...\")\n",
    "            ## delete file and confirm it no longer exits.\n",
    "            os.remove(JSON_FILE2)\n",
    "            ## Recursive call to function after old file deleted\n",
    "            create_json_file(JSON_FILE2,delete_if_exists=False)\n",
    "        else:\n",
    "            print(f\"[i] {JSON_FILE2} already exists.\")            \n",
    "            \n",
    "            \n",
    "    ## If it does NOT exist:\n",
    "    else:\n",
    "        \n",
    "        ## INFORM USER AND SAVE EMPTY LIST\n",
    "        print(f\"[i] {JSON_FILE2} not found. Saving empty list to new file.\")\n",
    "        \n",
    "        ## CREATE ANY NEEDED FOLDERS\n",
    "        # Get the Folder Name only\n",
    "        folder = os.path.dirname(JSON_FILE2)\n",
    "        \n",
    "        ## If JSON_FILE2 included a folder:\n",
    "        if len(folder)>0:\n",
    "            # create the folder\n",
    "            os.makedirs(folder,exist_ok=True)\n",
    "        ## Save empty list to start the json file\n",
    "        with open(JSON_FILE2,'w') as f:\n",
    "            json.dump([],f)  "
   ]
  },
  {
   "cell_type": "code",
   "execution_count": 17,
   "id": "0bca3751-a1a5-41a0-9f77-73f6f29cc3b5",
   "metadata": {},
   "outputs": [
    {
     "name": "stdout",
     "output_type": "stream",
     "text": [
      "[i] Data/results_in_progress_Salem_Soup.json not found. Saving empty list to new file.\n",
      "- 0 previous results found.\n"
     ]
    },
    {
     "data": {
      "text/plain": [
       "16"
      ]
     },
     "execution_count": 17,
     "metadata": {},
     "output_type": "execute_result"
    }
   ],
   "source": [
    "## Create a new empty json file (exist the previous if it exists)\n",
    "create_json_file(JSON_FILE2, delete_if_exists=True)\n",
    "## Load previous results and use len of results for offset\n",
    "with open(JSON_FILE2,'r') as f:\n",
    "    previous_results = json.load(f)\n",
    "    \n",
    "## set offset based on previous results\n",
    "n_results = len(previous_results)\n",
    "print(f'- {n_results} previous results found.')\n",
    "# use our yelp_api variable's search_query method to perform our API call\n",
    "results = yelp_api.search_query(location=LOCATION,\n",
    "                                term=TERM,\n",
    "                               offset=n_results)\n",
    "## How many results total?\n",
    "total_results = results['total']\n",
    "## How many did we get the details for?\n",
    "results_per_page = len(results['businesses'])\n",
    "# Use math.ceil to round up for the total number of pages of results.\n",
    "n_pages = math.ceil((results['total']-n_results)/ results_per_page)\n",
    "n_pages"
   ]
  },
  {
   "cell_type": "code",
   "execution_count": 18,
   "id": "626f5780-397b-4b3d-b0ea-346fc71220a5",
   "metadata": {},
   "outputs": [
    {
     "data": {
      "application/vnd.jupyter.widget-view+json": {
       "model_id": "3741fcb894e345ca97cbf811fa658341",
       "version_major": 2,
       "version_minor": 0
      },
      "text/plain": [
       "  0%|          | 0/16 [00:00<?, ?it/s]"
      ]
     },
     "metadata": {},
     "output_type": "display_data"
    }
   ],
   "source": [
    "for i in tqdm_notebook( range(1,n_pages+1)):\n",
    "    \n",
    "    ## Read in results in progress file and check the length\n",
    "    with open(JSON_FILE2, 'r') as f:\n",
    "        previous_results = json.load(f)\n",
    "    ## save number of results for to use as offset\n",
    "    n_results = len(previous_results)\n",
    "    \n",
    "    if (n_results + results_per_page) > 1000:\n",
    "        print('Exceeded 1000 api calls. Stopping loop.')\n",
    "        break\n",
    "    \n",
    "    ## use n_results as the OFFSET \n",
    "    results = yelp_api.search_query(location=LOCATION,\n",
    "                                    term=TERM, \n",
    "                                    offset=n_results)\n",
    "    \n",
    "    \n",
    "    \n",
    "    ## append new results and save to file\n",
    "    previous_results.extend(results['businesses'])\n",
    "    \n",
    "    # display(previous_results)\n",
    "    with open(JSON_FILE2,'w') as f:\n",
    "        json.dump(previous_results,f)\n",
    "    \n",
    "    time.sleep(.2)"
   ]
  },
  {
   "cell_type": "code",
   "execution_count": 20,
   "id": "8b78f489-2ae9-408b-9cc6-64256ec9f56f",
   "metadata": {},
   "outputs": [
    {
     "data": {
      "text/html": [
       "<div>\n",
       "<style scoped>\n",
       "    .dataframe tbody tr th:only-of-type {\n",
       "        vertical-align: middle;\n",
       "    }\n",
       "\n",
       "    .dataframe tbody tr th {\n",
       "        vertical-align: top;\n",
       "    }\n",
       "\n",
       "    .dataframe thead th {\n",
       "        text-align: right;\n",
       "    }\n",
       "</style>\n",
       "<table border=\"1\" class=\"dataframe\">\n",
       "  <thead>\n",
       "    <tr style=\"text-align: right;\">\n",
       "      <th></th>\n",
       "      <th>id</th>\n",
       "      <th>alias</th>\n",
       "      <th>name</th>\n",
       "      <th>image_url</th>\n",
       "      <th>is_closed</th>\n",
       "      <th>url</th>\n",
       "      <th>review_count</th>\n",
       "      <th>categories</th>\n",
       "      <th>rating</th>\n",
       "      <th>coordinates</th>\n",
       "      <th>transactions</th>\n",
       "      <th>price</th>\n",
       "      <th>location</th>\n",
       "      <th>phone</th>\n",
       "      <th>display_phone</th>\n",
       "      <th>distance</th>\n",
       "    </tr>\n",
       "  </thead>\n",
       "  <tbody>\n",
       "    <tr>\n",
       "      <th>0</th>\n",
       "      <td>RwtYEWrcSOiCouIytzhqbA</td>\n",
       "      <td>new-england-soup-factory-salem</td>\n",
       "      <td>New England Soup Factory</td>\n",
       "      <td>https://s3-media2.fl.yelpcdn.com/bphoto/UBi4MC...</td>\n",
       "      <td>False</td>\n",
       "      <td>https://www.yelp.com/biz/new-england-soup-fact...</td>\n",
       "      <td>234</td>\n",
       "      <td>[{'alias': 'tradamerican', 'title': 'American'...</td>\n",
       "      <td>4.0</td>\n",
       "      <td>{'latitude': 42.52053, 'longitude': -70.89577}</td>\n",
       "      <td>[delivery, pickup]</td>\n",
       "      <td>$</td>\n",
       "      <td>{'address1': '140 Washington St', 'address2': ...</td>\n",
       "      <td>+19787440444</td>\n",
       "      <td>(978) 744-0444</td>\n",
       "      <td>561.663115</td>\n",
       "    </tr>\n",
       "    <tr>\n",
       "      <th>1</th>\n",
       "      <td>k1ROSfBsw9DPGwvYeFtr7w</td>\n",
       "      <td>kokeshi-salem</td>\n",
       "      <td>Kokeshi</td>\n",
       "      <td>https://s3-media4.fl.yelpcdn.com/bphoto/5mAGUV...</td>\n",
       "      <td>False</td>\n",
       "      <td>https://www.yelp.com/biz/kokeshi-salem?adjust_...</td>\n",
       "      <td>222</td>\n",
       "      <td>[{'alias': 'asianfusion', 'title': 'Asian Fusi...</td>\n",
       "      <td>4.0</td>\n",
       "      <td>{'latitude': 42.52062057489013, 'longitude': -...</td>\n",
       "      <td>[delivery]</td>\n",
       "      <td>$$</td>\n",
       "      <td>{'address1': '288 Derby St', 'address2': '', '...</td>\n",
       "      <td>+19785944197</td>\n",
       "      <td>(978) 594-4197</td>\n",
       "      <td>810.885887</td>\n",
       "    </tr>\n",
       "    <tr>\n",
       "      <th>2</th>\n",
       "      <td>dzj7ljw37--iE-IMjNizBQ</td>\n",
       "      <td>chezcasa-salem</td>\n",
       "      <td>ChezCasa</td>\n",
       "      <td>https://s3-media2.fl.yelpcdn.com/bphoto/1xheVz...</td>\n",
       "      <td>False</td>\n",
       "      <td>https://www.yelp.com/biz/chezcasa-salem?adjust...</td>\n",
       "      <td>66</td>\n",
       "      <td>[{'alias': 'sandwiches', 'title': 'Sandwiches'...</td>\n",
       "      <td>5.0</td>\n",
       "      <td>{'latitude': 42.52927, 'longitude': -70.88961}</td>\n",
       "      <td>[delivery]</td>\n",
       "      <td>NaN</td>\n",
       "      <td>{'address1': '97 Bridge St', 'address2': '', '...</td>\n",
       "      <td>+19787442143</td>\n",
       "      <td>(978) 744-2143</td>\n",
       "      <td>1636.493230</td>\n",
       "    </tr>\n",
       "    <tr>\n",
       "      <th>3</th>\n",
       "      <td>Qr0MnUz8IKt8_1lKvXz8mw</td>\n",
       "      <td>gulu-gulu-cafe-salem</td>\n",
       "      <td>Gulu Gulu Cafe</td>\n",
       "      <td>https://s3-media3.fl.yelpcdn.com/bphoto/v_NfOD...</td>\n",
       "      <td>False</td>\n",
       "      <td>https://www.yelp.com/biz/gulu-gulu-cafe-salem?...</td>\n",
       "      <td>1078</td>\n",
       "      <td>[{'alias': 'sandwiches', 'title': 'Sandwiches'...</td>\n",
       "      <td>4.0</td>\n",
       "      <td>{'latitude': 42.521312, 'longitude': -70.896277}</td>\n",
       "      <td>[delivery, pickup]</td>\n",
       "      <td>$$</td>\n",
       "      <td>{'address1': '247 Essex St', 'address2': '', '...</td>\n",
       "      <td>+19787408882</td>\n",
       "      <td>(978) 740-8882</td>\n",
       "      <td>599.475465</td>\n",
       "    </tr>\n",
       "    <tr>\n",
       "      <th>4</th>\n",
       "      <td>IRgsYIVjSZ0u2nm9gEqy5A</td>\n",
       "      <td>ray-adeas-mediterranean-kitchen-salem</td>\n",
       "      <td>Ray Adea's Mediterranean Kitchen</td>\n",
       "      <td>https://s3-media4.fl.yelpcdn.com/bphoto/Yf34QJ...</td>\n",
       "      <td>False</td>\n",
       "      <td>https://www.yelp.com/biz/ray-adeas-mediterrane...</td>\n",
       "      <td>171</td>\n",
       "      <td>[{'alias': 'mediterranean', 'title': 'Mediterr...</td>\n",
       "      <td>5.0</td>\n",
       "      <td>{'latitude': 42.51853, 'longitude': -70.89375}</td>\n",
       "      <td>[delivery, pickup]</td>\n",
       "      <td>$</td>\n",
       "      <td>{'address1': '90 Lafayette St', 'address2': ''...</td>\n",
       "      <td>+19785944271</td>\n",
       "      <td>(978) 594-4271</td>\n",
       "      <td>558.918737</td>\n",
       "    </tr>\n",
       "  </tbody>\n",
       "</table>\n",
       "</div>"
      ],
      "text/plain": [
       "                       id                                  alias  \\\n",
       "0  RwtYEWrcSOiCouIytzhqbA         new-england-soup-factory-salem   \n",
       "1  k1ROSfBsw9DPGwvYeFtr7w                          kokeshi-salem   \n",
       "2  dzj7ljw37--iE-IMjNizBQ                         chezcasa-salem   \n",
       "3  Qr0MnUz8IKt8_1lKvXz8mw                   gulu-gulu-cafe-salem   \n",
       "4  IRgsYIVjSZ0u2nm9gEqy5A  ray-adeas-mediterranean-kitchen-salem   \n",
       "\n",
       "                               name  \\\n",
       "0          New England Soup Factory   \n",
       "1                           Kokeshi   \n",
       "2                          ChezCasa   \n",
       "3                    Gulu Gulu Cafe   \n",
       "4  Ray Adea's Mediterranean Kitchen   \n",
       "\n",
       "                                           image_url  is_closed  \\\n",
       "0  https://s3-media2.fl.yelpcdn.com/bphoto/UBi4MC...      False   \n",
       "1  https://s3-media4.fl.yelpcdn.com/bphoto/5mAGUV...      False   \n",
       "2  https://s3-media2.fl.yelpcdn.com/bphoto/1xheVz...      False   \n",
       "3  https://s3-media3.fl.yelpcdn.com/bphoto/v_NfOD...      False   \n",
       "4  https://s3-media4.fl.yelpcdn.com/bphoto/Yf34QJ...      False   \n",
       "\n",
       "                                                 url  review_count  \\\n",
       "0  https://www.yelp.com/biz/new-england-soup-fact...           234   \n",
       "1  https://www.yelp.com/biz/kokeshi-salem?adjust_...           222   \n",
       "2  https://www.yelp.com/biz/chezcasa-salem?adjust...            66   \n",
       "3  https://www.yelp.com/biz/gulu-gulu-cafe-salem?...          1078   \n",
       "4  https://www.yelp.com/biz/ray-adeas-mediterrane...           171   \n",
       "\n",
       "                                          categories  rating  \\\n",
       "0  [{'alias': 'tradamerican', 'title': 'American'...     4.0   \n",
       "1  [{'alias': 'asianfusion', 'title': 'Asian Fusi...     4.0   \n",
       "2  [{'alias': 'sandwiches', 'title': 'Sandwiches'...     5.0   \n",
       "3  [{'alias': 'sandwiches', 'title': 'Sandwiches'...     4.0   \n",
       "4  [{'alias': 'mediterranean', 'title': 'Mediterr...     5.0   \n",
       "\n",
       "                                         coordinates        transactions  \\\n",
       "0     {'latitude': 42.52053, 'longitude': -70.89577}  [delivery, pickup]   \n",
       "1  {'latitude': 42.52062057489013, 'longitude': -...          [delivery]   \n",
       "2     {'latitude': 42.52927, 'longitude': -70.88961}          [delivery]   \n",
       "3   {'latitude': 42.521312, 'longitude': -70.896277}  [delivery, pickup]   \n",
       "4     {'latitude': 42.51853, 'longitude': -70.89375}  [delivery, pickup]   \n",
       "\n",
       "  price                                           location         phone  \\\n",
       "0     $  {'address1': '140 Washington St', 'address2': ...  +19787440444   \n",
       "1    $$  {'address1': '288 Derby St', 'address2': '', '...  +19785944197   \n",
       "2   NaN  {'address1': '97 Bridge St', 'address2': '', '...  +19787442143   \n",
       "3    $$  {'address1': '247 Essex St', 'address2': '', '...  +19787408882   \n",
       "4     $  {'address1': '90 Lafayette St', 'address2': ''...  +19785944271   \n",
       "\n",
       "    display_phone     distance  \n",
       "0  (978) 744-0444   561.663115  \n",
       "1  (978) 594-4197   810.885887  \n",
       "2  (978) 744-2143  1636.493230  \n",
       "3  (978) 740-8882   599.475465  \n",
       "4  (978) 594-4271   558.918737  "
      ]
     },
     "metadata": {},
     "output_type": "display_data"
    },
    {
     "data": {
      "text/html": [
       "<div>\n",
       "<style scoped>\n",
       "    .dataframe tbody tr th:only-of-type {\n",
       "        vertical-align: middle;\n",
       "    }\n",
       "\n",
       "    .dataframe tbody tr th {\n",
       "        vertical-align: top;\n",
       "    }\n",
       "\n",
       "    .dataframe thead th {\n",
       "        text-align: right;\n",
       "    }\n",
       "</style>\n",
       "<table border=\"1\" class=\"dataframe\">\n",
       "  <thead>\n",
       "    <tr style=\"text-align: right;\">\n",
       "      <th></th>\n",
       "      <th>id</th>\n",
       "      <th>alias</th>\n",
       "      <th>name</th>\n",
       "      <th>image_url</th>\n",
       "      <th>is_closed</th>\n",
       "      <th>url</th>\n",
       "      <th>review_count</th>\n",
       "      <th>categories</th>\n",
       "      <th>rating</th>\n",
       "      <th>coordinates</th>\n",
       "      <th>transactions</th>\n",
       "      <th>price</th>\n",
       "      <th>location</th>\n",
       "      <th>phone</th>\n",
       "      <th>display_phone</th>\n",
       "      <th>distance</th>\n",
       "    </tr>\n",
       "  </thead>\n",
       "  <tbody>\n",
       "    <tr>\n",
       "      <th>312</th>\n",
       "      <td>xuW6SviETDtiYSUzLQVUyA</td>\n",
       "      <td>prime-roast-beef-and-pizza-danvers</td>\n",
       "      <td>Prime Roast Beef &amp; Pizza</td>\n",
       "      <td>https://s3-media3.fl.yelpcdn.com/bphoto/8tKXPY...</td>\n",
       "      <td>False</td>\n",
       "      <td>https://www.yelp.com/biz/prime-roast-beef-and-...</td>\n",
       "      <td>130</td>\n",
       "      <td>[{'alias': 'sandwiches', 'title': 'Sandwiches'...</td>\n",
       "      <td>3.5</td>\n",
       "      <td>{'latitude': 42.5539024525685, 'longitude': -7...</td>\n",
       "      <td>[pickup, delivery]</td>\n",
       "      <td>$$</td>\n",
       "      <td>{'address1': '85 Andover St', 'address2': '', ...</td>\n",
       "      <td>+19787679505</td>\n",
       "      <td>(978) 767-9505</td>\n",
       "      <td>6556.385061</td>\n",
       "    </tr>\n",
       "    <tr>\n",
       "      <th>313</th>\n",
       "      <td>Hj5qmsYC35Kw1mdmqlDvHQ</td>\n",
       "      <td>qdoba-mexican-eats-peabody</td>\n",
       "      <td>QDOBA Mexican Eats</td>\n",
       "      <td>https://s3-media2.fl.yelpcdn.com/bphoto/k6YSlt...</td>\n",
       "      <td>False</td>\n",
       "      <td>https://www.yelp.com/biz/qdoba-mexican-eats-pe...</td>\n",
       "      <td>79</td>\n",
       "      <td>[{'alias': 'mexican', 'title': 'Mexican'}, {'a...</td>\n",
       "      <td>3.0</td>\n",
       "      <td>{'latitude': 42.547345812634, 'longitude': -70...</td>\n",
       "      <td>[pickup, delivery]</td>\n",
       "      <td>$</td>\n",
       "      <td>{'address1': '229 Andover St', 'address2': '',...</td>\n",
       "      <td>+19788186232</td>\n",
       "      <td>(978) 818-6232</td>\n",
       "      <td>5163.800316</td>\n",
       "    </tr>\n",
       "    <tr>\n",
       "      <th>314</th>\n",
       "      <td>xtum8zS3BO9E1qcUOpi96w</td>\n",
       "      <td>rizzos-roast-beef-and-pizza-peabody-peabody</td>\n",
       "      <td>Rizzo's Roast Beef &amp; Pizza</td>\n",
       "      <td>https://s3-media3.fl.yelpcdn.com/bphoto/yd8J2I...</td>\n",
       "      <td>False</td>\n",
       "      <td>https://www.yelp.com/biz/rizzos-roast-beef-and...</td>\n",
       "      <td>72</td>\n",
       "      <td>[{'alias': 'sandwiches', 'title': 'Sandwiches'...</td>\n",
       "      <td>2.5</td>\n",
       "      <td>{'latitude': 42.5055666, 'longitude': -70.9516...</td>\n",
       "      <td>[pickup, delivery]</td>\n",
       "      <td>$$</td>\n",
       "      <td>{'address1': '178 Lynn St', 'address2': '', 'a...</td>\n",
       "      <td>+19785312788</td>\n",
       "      <td>(978) 531-2788</td>\n",
       "      <td>4417.713382</td>\n",
       "    </tr>\n",
       "    <tr>\n",
       "      <th>315</th>\n",
       "      <td>N1N0AtgiSf0thGPEIVtlCA</td>\n",
       "      <td>marano-s-trattoria-peabody-3</td>\n",
       "      <td>Marano’s Trattoria</td>\n",
       "      <td>https://s3-media2.fl.yelpcdn.com/bphoto/m8YEqL...</td>\n",
       "      <td>False</td>\n",
       "      <td>https://www.yelp.com/biz/marano-s-trattoria-pe...</td>\n",
       "      <td>73</td>\n",
       "      <td>[{'alias': 'pizza', 'title': 'Pizza'}, {'alias...</td>\n",
       "      <td>3.5</td>\n",
       "      <td>{'latitude': 42.55068473751309, 'longitude': -...</td>\n",
       "      <td>[delivery]</td>\n",
       "      <td>$</td>\n",
       "      <td>{'address1': '637 Lowell St', 'address2': '', ...</td>\n",
       "      <td>+19785350411</td>\n",
       "      <td>(978) 535-0411</td>\n",
       "      <td>9168.112979</td>\n",
       "    </tr>\n",
       "    <tr>\n",
       "      <th>316</th>\n",
       "      <td>CvQF7p0Hw3LWPIcEx_CdGw</td>\n",
       "      <td>omega-pizza-middleton</td>\n",
       "      <td>Omega Pizza</td>\n",
       "      <td>https://s3-media3.fl.yelpcdn.com/bphoto/RiBuxm...</td>\n",
       "      <td>False</td>\n",
       "      <td>https://www.yelp.com/biz/omega-pizza-middleton...</td>\n",
       "      <td>64</td>\n",
       "      <td>[{'alias': 'pizza', 'title': 'Pizza'}, {'alias...</td>\n",
       "      <td>3.5</td>\n",
       "      <td>{'latitude': 42.5771205, 'longitude': -70.9973...</td>\n",
       "      <td>[pickup, delivery]</td>\n",
       "      <td>$</td>\n",
       "      <td>{'address1': '232 S Main St', 'address2': '', ...</td>\n",
       "      <td>+19787773900</td>\n",
       "      <td>(978) 777-3900</td>\n",
       "      <td>10503.919983</td>\n",
       "    </tr>\n",
       "  </tbody>\n",
       "</table>\n",
       "</div>"
      ],
      "text/plain": [
       "                         id                                        alias  \\\n",
       "312  xuW6SviETDtiYSUzLQVUyA           prime-roast-beef-and-pizza-danvers   \n",
       "313  Hj5qmsYC35Kw1mdmqlDvHQ                   qdoba-mexican-eats-peabody   \n",
       "314  xtum8zS3BO9E1qcUOpi96w  rizzos-roast-beef-and-pizza-peabody-peabody   \n",
       "315  N1N0AtgiSf0thGPEIVtlCA                 marano-s-trattoria-peabody-3   \n",
       "316  CvQF7p0Hw3LWPIcEx_CdGw                        omega-pizza-middleton   \n",
       "\n",
       "                           name  \\\n",
       "312    Prime Roast Beef & Pizza   \n",
       "313          QDOBA Mexican Eats   \n",
       "314  Rizzo's Roast Beef & Pizza   \n",
       "315          Marano’s Trattoria   \n",
       "316                 Omega Pizza   \n",
       "\n",
       "                                             image_url  is_closed  \\\n",
       "312  https://s3-media3.fl.yelpcdn.com/bphoto/8tKXPY...      False   \n",
       "313  https://s3-media2.fl.yelpcdn.com/bphoto/k6YSlt...      False   \n",
       "314  https://s3-media3.fl.yelpcdn.com/bphoto/yd8J2I...      False   \n",
       "315  https://s3-media2.fl.yelpcdn.com/bphoto/m8YEqL...      False   \n",
       "316  https://s3-media3.fl.yelpcdn.com/bphoto/RiBuxm...      False   \n",
       "\n",
       "                                                   url  review_count  \\\n",
       "312  https://www.yelp.com/biz/prime-roast-beef-and-...           130   \n",
       "313  https://www.yelp.com/biz/qdoba-mexican-eats-pe...            79   \n",
       "314  https://www.yelp.com/biz/rizzos-roast-beef-and...            72   \n",
       "315  https://www.yelp.com/biz/marano-s-trattoria-pe...            73   \n",
       "316  https://www.yelp.com/biz/omega-pizza-middleton...            64   \n",
       "\n",
       "                                            categories  rating  \\\n",
       "312  [{'alias': 'sandwiches', 'title': 'Sandwiches'...     3.5   \n",
       "313  [{'alias': 'mexican', 'title': 'Mexican'}, {'a...     3.0   \n",
       "314  [{'alias': 'sandwiches', 'title': 'Sandwiches'...     2.5   \n",
       "315  [{'alias': 'pizza', 'title': 'Pizza'}, {'alias...     3.5   \n",
       "316  [{'alias': 'pizza', 'title': 'Pizza'}, {'alias...     3.5   \n",
       "\n",
       "                                           coordinates        transactions  \\\n",
       "312  {'latitude': 42.5539024525685, 'longitude': -7...  [pickup, delivery]   \n",
       "313  {'latitude': 42.547345812634, 'longitude': -70...  [pickup, delivery]   \n",
       "314  {'latitude': 42.5055666, 'longitude': -70.9516...  [pickup, delivery]   \n",
       "315  {'latitude': 42.55068473751309, 'longitude': -...          [delivery]   \n",
       "316  {'latitude': 42.5771205, 'longitude': -70.9973...  [pickup, delivery]   \n",
       "\n",
       "    price                                           location         phone  \\\n",
       "312    $$  {'address1': '85 Andover St', 'address2': '', ...  +19787679505   \n",
       "313     $  {'address1': '229 Andover St', 'address2': '',...  +19788186232   \n",
       "314    $$  {'address1': '178 Lynn St', 'address2': '', 'a...  +19785312788   \n",
       "315     $  {'address1': '637 Lowell St', 'address2': '', ...  +19785350411   \n",
       "316     $  {'address1': '232 S Main St', 'address2': '', ...  +19787773900   \n",
       "\n",
       "      display_phone      distance  \n",
       "312  (978) 767-9505   6556.385061  \n",
       "313  (978) 818-6232   5163.800316  \n",
       "314  (978) 531-2788   4417.713382  \n",
       "315  (978) 535-0411   9168.112979  \n",
       "316  (978) 777-3900  10503.919983  "
      ]
     },
     "metadata": {},
     "output_type": "display_data"
    }
   ],
   "source": [
    "# load final results\n",
    "final_df = pd.read_json(JSON_FILE2)\n",
    "display(final_df.head(), final_df.tail())"
   ]
  },
  {
   "cell_type": "code",
   "execution_count": 21,
   "id": "1e688036-1d24-4bb2-a4f6-780f47a68f93",
   "metadata": {},
   "outputs": [
    {
     "data": {
      "text/plain": [
       "0"
      ]
     },
     "execution_count": 21,
     "metadata": {},
     "output_type": "execute_result"
    }
   ],
   "source": [
    "# check for duplicate ID's \n",
    "final_df.duplicated(subset='id').sum()"
   ]
  },
  {
   "cell_type": "code",
   "execution_count": 23,
   "id": "4f6522de-61f9-425f-af7c-db21aaae4768",
   "metadata": {},
   "outputs": [],
   "source": [
    "# save the final results to a compressed csv\n",
    "final_df.to_csv('Data/final_results_Salem_Soup.csv.gz', compression='gzip',index=False)"
   ]
  },
  {
   "cell_type": "code",
   "execution_count": null,
   "id": "56c7b32a-8a9c-4a8b-a550-42537242e16f",
   "metadata": {},
   "outputs": [],
   "source": []
  }
 ],
 "metadata": {
  "kernelspec": {
   "display_name": "Python (dojo-env)",
   "language": "python",
   "name": "dojo-env"
  },
  "language_info": {
   "codemirror_mode": {
    "name": "ipython",
    "version": 3
   },
   "file_extension": ".py",
   "mimetype": "text/x-python",
   "name": "python",
   "nbconvert_exporter": "python",
   "pygments_lexer": "ipython3",
   "version": "3.10.10"
  },
  "widgets": {
   "application/vnd.jupyter.widget-state+json": {
    "state": {
     "06ff4e3c37f74f48820815b4a8c26e5c": {
      "model_module": "@jupyter-widgets/base",
      "model_module_version": "2.0.0",
      "model_name": "LayoutModel",
      "state": {}
     },
     "0d3278fe8f894281b041e5999650faca": {
      "model_module": "@jupyter-widgets/controls",
      "model_module_version": "2.0.0",
      "model_name": "ProgressStyleModel",
      "state": {
       "description_width": ""
      }
     },
     "0d8e2c74b1474315a3578776d9da1333": {
      "model_module": "@jupyter-widgets/controls",
      "model_module_version": "2.0.0",
      "model_name": "HTMLStyleModel",
      "state": {
       "description_width": "",
       "font_size": null,
       "text_color": null
      }
     },
     "2304e597be164c11aa2839135c8861db": {
      "model_module": "@jupyter-widgets/controls",
      "model_module_version": "2.0.0",
      "model_name": "HTMLModel",
      "state": {
       "layout": "IPY_MODEL_8200089749ae41e4b6c8cd38d2bada86",
       "style": "IPY_MODEL_0d8e2c74b1474315a3578776d9da1333",
       "value": "100%"
      }
     },
     "2fe047fb2b0047f5a4bccc00c4dc1545": {
      "model_module": "@jupyter-widgets/base",
      "model_module_version": "2.0.0",
      "model_name": "LayoutModel",
      "state": {}
     },
     "3741fcb894e345ca97cbf811fa658341": {
      "model_module": "@jupyter-widgets/controls",
      "model_module_version": "2.0.0",
      "model_name": "HBoxModel",
      "state": {
       "children": [
        "IPY_MODEL_db9fa55662334e91a5bbb2aca747edf2",
        "IPY_MODEL_c0c1e8eb151643cd968e2a2d151d1a8e",
        "IPY_MODEL_7229ae880a3146688896c1feac985736"
       ],
       "layout": "IPY_MODEL_efef43cfeb82419fb7eacd3e9fd84b5c"
      }
     },
     "3ba8af96944d41f3b014c9024b61e414": {
      "model_module": "@jupyter-widgets/base",
      "model_module_version": "2.0.0",
      "model_name": "LayoutModel",
      "state": {}
     },
     "51ae707aa4df4e118a54dbe55979fbca": {
      "model_module": "@jupyter-widgets/base",
      "model_module_version": "2.0.0",
      "model_name": "LayoutModel",
      "state": {}
     },
     "52b75930fe524dba9d0d64633cb964aa": {
      "model_module": "@jupyter-widgets/controls",
      "model_module_version": "2.0.0",
      "model_name": "ProgressStyleModel",
      "state": {
       "description_width": ""
      }
     },
     "6816ac89978b41799b7e01bd2492d8c4": {
      "model_module": "@jupyter-widgets/controls",
      "model_module_version": "2.0.0",
      "model_name": "HTMLModel",
      "state": {
       "layout": "IPY_MODEL_51ae707aa4df4e118a54dbe55979fbca",
       "style": "IPY_MODEL_78ab57f246154a098ce63493d1d4e335",
       "value": " 16/16 [00:03&lt;00:00,  4.85it/s]"
      }
     },
     "7229ae880a3146688896c1feac985736": {
      "model_module": "@jupyter-widgets/controls",
      "model_module_version": "2.0.0",
      "model_name": "HTMLModel",
      "state": {
       "layout": "IPY_MODEL_e9be4064608845d594e7da9d3d6c591b",
       "style": "IPY_MODEL_795abf4deb4d406291af5ece7911411e",
       "value": " 16/16 [00:13&lt;00:00,  1.11it/s]"
      }
     },
     "78ab57f246154a098ce63493d1d4e335": {
      "model_module": "@jupyter-widgets/controls",
      "model_module_version": "2.0.0",
      "model_name": "HTMLStyleModel",
      "state": {
       "description_width": "",
       "font_size": null,
       "text_color": null
      }
     },
     "795abf4deb4d406291af5ece7911411e": {
      "model_module": "@jupyter-widgets/controls",
      "model_module_version": "2.0.0",
      "model_name": "HTMLStyleModel",
      "state": {
       "description_width": "",
       "font_size": null,
       "text_color": null
      }
     },
     "8200089749ae41e4b6c8cd38d2bada86": {
      "model_module": "@jupyter-widgets/base",
      "model_module_version": "2.0.0",
      "model_name": "LayoutModel",
      "state": {}
     },
     "c0c1e8eb151643cd968e2a2d151d1a8e": {
      "model_module": "@jupyter-widgets/controls",
      "model_module_version": "2.0.0",
      "model_name": "FloatProgressModel",
      "state": {
       "bar_style": "success",
       "layout": "IPY_MODEL_d3bb4b8e193f4d37a1869e1e42a45fce",
       "max": 16,
       "style": "IPY_MODEL_0d3278fe8f894281b041e5999650faca",
       "value": 16
      }
     },
     "ca33b9389dc84b42b9d41fbb32613917": {
      "model_module": "@jupyter-widgets/controls",
      "model_module_version": "2.0.0",
      "model_name": "FloatProgressModel",
      "state": {
       "bar_style": "success",
       "layout": "IPY_MODEL_2fe047fb2b0047f5a4bccc00c4dc1545",
       "max": 16,
       "style": "IPY_MODEL_52b75930fe524dba9d0d64633cb964aa",
       "value": 16
      }
     },
     "cf6ac63be5034a54bcf9d2fdcf068e93": {
      "model_module": "@jupyter-widgets/controls",
      "model_module_version": "2.0.0",
      "model_name": "HBoxModel",
      "state": {
       "children": [
        "IPY_MODEL_2304e597be164c11aa2839135c8861db",
        "IPY_MODEL_ca33b9389dc84b42b9d41fbb32613917",
        "IPY_MODEL_6816ac89978b41799b7e01bd2492d8c4"
       ],
       "layout": "IPY_MODEL_3ba8af96944d41f3b014c9024b61e414"
      }
     },
     "d3bb4b8e193f4d37a1869e1e42a45fce": {
      "model_module": "@jupyter-widgets/base",
      "model_module_version": "2.0.0",
      "model_name": "LayoutModel",
      "state": {}
     },
     "d6f77a3137a24ede88b21ea889725be5": {
      "model_module": "@jupyter-widgets/controls",
      "model_module_version": "2.0.0",
      "model_name": "HTMLStyleModel",
      "state": {
       "description_width": "",
       "font_size": null,
       "text_color": null
      }
     },
     "db9fa55662334e91a5bbb2aca747edf2": {
      "model_module": "@jupyter-widgets/controls",
      "model_module_version": "2.0.0",
      "model_name": "HTMLModel",
      "state": {
       "layout": "IPY_MODEL_06ff4e3c37f74f48820815b4a8c26e5c",
       "style": "IPY_MODEL_d6f77a3137a24ede88b21ea889725be5",
       "value": "100%"
      }
     },
     "e9be4064608845d594e7da9d3d6c591b": {
      "model_module": "@jupyter-widgets/base",
      "model_module_version": "2.0.0",
      "model_name": "LayoutModel",
      "state": {}
     },
     "efef43cfeb82419fb7eacd3e9fd84b5c": {
      "model_module": "@jupyter-widgets/base",
      "model_module_version": "2.0.0",
      "model_name": "LayoutModel",
      "state": {}
     }
    },
    "version_major": 2,
    "version_minor": 0
   }
  }
 },
 "nbformat": 4,
 "nbformat_minor": 5
}
